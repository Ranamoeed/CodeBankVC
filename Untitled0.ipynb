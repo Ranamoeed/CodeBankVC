{
  "nbformat": 4,
  "nbformat_minor": 0,
  "metadata": {
    "colab": {
      "provenance": [],
      "include_colab_link": true
    },
    "kernelspec": {
      "name": "python3",
      "display_name": "Python 3"
    },
    "language_info": {
      "name": "python"
    }
  },
  "cells": [
    {
      "cell_type": "markdown",
      "metadata": {
        "id": "view-in-github",
        "colab_type": "text"
      },
      "source": [
        "<a href=\"https://colab.research.google.com/github/Ranamoeed/CodeBankVC/blob/main/Untitled0.ipynb\" target=\"_parent\"><img src=\"https://colab.research.google.com/assets/colab-badge.svg\" alt=\"Open In Colab\"/></a>"
      ]
    },
    {
      "cell_type": "code",
      "source": [
        "fairseq-generate \\\n",
        "    data_bin \\\n",
        "    --batch-size 1 \\\n",
        "    --path last_chk_gpus.pt \\\n",
        "    --fixed-dictionary model_dict.128k.txt \\\n",
        "    -s de -t fr \\\n",
        "    --remove-bpe 'sentencepiece' \\\n",
        "    --beam 5 \\\n",
        "    --task translation_multi_simple_epoch \\\n",
        "    --lang-pairs language_pairs.txt \\\n",
        "    --decoder-langtok --encoder-langtok src \\\n",
        "    --gen-subset test \\\n",
        "    --fp16 \\\n",
        "    --dataset-impl mmap \\\n",
        "    --distributed-world-size 1 --distributed-no-spawn \\\n",
        "    --pipeline-model-parallel \\\n",
        "    --pipeline-chunks 1 \\\n",
        "    --pipeline-encoder-balance '[1,15,10]' \\\n",
        "    --pipeline-encoder-devices '[0,1,0]' \\\n",
        "    --pipeline-decoder-balance '[3,11,11,1]' \\\n",
        "    --pipeline-decoder-devices '[0,2,3,0]' > gen_out"
      ],
      "metadata": {
        "id": "42UvwQt36Mh2"
      },
      "execution_count": null,
      "outputs": []
    }
  ]
}